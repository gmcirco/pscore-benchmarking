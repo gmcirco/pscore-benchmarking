{
 "cells": [
  {
   "cell_type": "code",
   "execution_count": 1,
   "metadata": {},
   "outputs": [],
   "source": [
    "# TODO:\n",
    "#   save weights for comparison groups with id names\n",
    "#   allow plotting \\ evaluation of weights\n",
    "#   create tables for balance?\n",
    "#   statistical tests for outcome variable - add s.e.\n",
    "#   find a faster method to allow batch fitting (catboost? lightgbm?)"
   ]
  },
  {
   "cell_type": "code",
   "execution_count": 2,
   "metadata": {},
   "outputs": [
    {
     "name": "stdout",
     "output_type": "stream",
     "text": [
      "/var/lib/projects\n"
     ]
    }
   ],
   "source": [
    "%cd /var/lib/projects"
   ]
  },
  {
   "cell_type": "code",
   "execution_count": 3,
   "metadata": {},
   "outputs": [
    {
     "name": "stderr",
     "output_type": "stream",
     "text": [
      "/tmp/ipykernel_7944/2558641774.py:5: DtypeWarning: Columns (10,29) have mixed types. Specify dtype option on import or set low_memory=False.\n",
      "  df = pd.read_csv(\"provider_scorecard/data/sparcs.zip\")\n"
     ]
    }
   ],
   "source": [
    "import pandas as pd\n",
    "import numpy as np\n",
    "from provider_scorecard.benchmark import Benchmark\n",
    "\n",
    "df = pd.read_csv(\"provider_scorecard/data/sparcs.zip\")"
   ]
  },
  {
   "cell_type": "code",
   "execution_count": 4,
   "metadata": {},
   "outputs": [],
   "source": [
    "def wt_att(y, score):\n",
    "    \"\"\"\n",
    "    Calculate Average Treatment Effect on the Treated (ATT) weights.\n",
    "    \"\"\"\n",
    "    weight = score / (1 - score)\n",
    "\n",
    "    # define att weights\n",
    "    wt = [1 if t == True else w for t, w in zip(y, weight)]\n",
    "\n",
    "    return wt\n",
    "\n",
    "\n",
    "def balance(var, X, y, wgt, digits=2):\n",
    "    \"\"\"\n",
    "    Compute weighted balance statistics for ATT weights\n",
    "\n",
    "    Weights are assumed to be 1 where y=True\n",
    "    \"\"\"\n",
    "\n",
    "    tab = X[var]\n",
    "\n",
    "    #\n",
    "    tf, tc = tab[y], tab[~y]\n",
    "    c_wgt = [v for v, c in zip(wgt, y) if not c]\n",
    "\n",
    "    # compute average\n",
    "    mf = round(np.average(tf), digits)\n",
    "    mc = round(np.average(tc, weights=c_wgt), digits)\n",
    "\n",
    "    return (mf, mc)\n",
    "\n",
    "def evaluate(X,y,tr,wgt,digits=2):\n",
    "    \"\"\"\n",
    "    Compute a difference-in-means estimate for the focal hospital\n",
    "    \"\"\"\n",
    "    Xeval = X.copy()\n",
    "    Xeval['tr'] = tr\n",
    "\n",
    "    regr = LinearRegression()\n",
    "    regr.fit(Xeval,y, sample_weight=wgt)\n",
    "\n",
    "    return round(regr.coef_[len(Xeval.columns)-1],digits)"
   ]
  },
  {
   "cell_type": "code",
   "execution_count": 5,
   "metadata": {},
   "outputs": [
    {
     "data": {
      "text/plain": [
       "array(['New York City', nan, 'Hudson Valley', 'Central NY', 'Long Island',\n",
       "       'Capital/Adirond', 'Finger Lakes', 'Western NY', 'Southern Tier'],\n",
       "      dtype=object)"
      ]
     },
     "execution_count": 5,
     "metadata": {},
     "output_type": "execute_result"
    }
   ],
   "source": [
    "df['Hospital Service Area'].unique()"
   ]
  },
  {
   "cell_type": "code",
   "execution_count": 6,
   "metadata": {},
   "outputs": [],
   "source": [
    "# filter on region\n",
    "# get only the top 30 drg codes\n",
    "df = df[df['Hospital Service Area'] == 'Central NY']\n",
    "\n",
    "# some recoding\n",
    "df['Length of Stay'] = [120 if x == '120 +' else x for x in df['Length of Stay']]\n",
    "\n",
    "df['Length of Stay'] = df['Length of Stay'].astype(int)\n",
    "df['APR DRG Code'] = df['APR DRG Code'].astype(str)\n",
    "\n",
    "# top 30 drg codes\n",
    "drg = df.groupby('APR DRG Code')['APR DRG Code'].count().sort_values(ascending=False).head(30)\n",
    "drg = drg.astype(str)"
   ]
  },
  {
   "cell_type": "code",
   "execution_count": 38,
   "metadata": {},
   "outputs": [
    {
     "data": {
      "text/plain": [
       "array(['Crouse Hospital - Commonwealth Division',\n",
       "       'Auburn Community Hospital', 'Crouse Hospital',\n",
       "       'Community Memorial Hospital Inc',\n",
       "       'Guthrie Cortland Medical Center', 'River Hospital, Inc.',\n",
       "       'Lewis County General Hospital', 'Gouverneur Hospital',\n",
       "       'Faxton-St Lukes Healthcare St Lukes Division',\n",
       "       'St Elizabeth Medical Center', 'Oneida Health Hospital',\n",
       "       'Massena Hospital', 'Oswego Hospital',\n",
       "       'Lakeview Center for Mental Health and Wellness',\n",
       "       'Samaritan Medical Center',\n",
       "       'University Hospital SUNY Health Science Center',\n",
       "       'UPSTATE University Hospital at Community General',\n",
       "       'Canton-Potsdam Hospital', 'Carthage Area Hospital Inc',\n",
       "       'Cayuga Medical Center at Ithaca', 'Rome Memorial Hospital, Inc',\n",
       "       'Claxton-Hepburn Medical Center', 'Little Falls Hospital',\n",
       "       \"St. Joseph's Hospital Health Center\", 'Clifton-Fine Hospital'],\n",
       "      dtype=object)"
      ]
     },
     "execution_count": 38,
     "metadata": {},
     "output_type": "execute_result"
    }
   ],
   "source": [
    "df['Facility Name'].unique()"
   ]
  },
  {
   "cell_type": "code",
   "execution_count": 26,
   "metadata": {},
   "outputs": [],
   "source": [
    "# input features\n",
    "xfeat = [\n",
    "    \"Age Group\",\n",
    "    \"Gender\",\n",
    "    \"Race\",\n",
    "    \"Length of Stay\",\n",
    "    \"Type of Admission\",\n",
    "    \"APR DRG Code\",\n",
    "    \"APR Severity of Illness Description\",\n",
    "    \"APR Risk of Mortality\",\n",
    "]\n",
    "\n",
    "# evaluation features\n",
    "efeat = [\"Total Charges\",\"Total Costs\"]\n",
    "\n",
    "# focal hospital\n",
    "focal = \"Auburn Community Hospital\""
   ]
  },
  {
   "cell_type": "code",
   "execution_count": 27,
   "metadata": {},
   "outputs": [],
   "source": [
    "# create evaluation data\n",
    "sub = df[df['APR DRG Code'].isin(drg.index)]\n",
    "\n",
    "# model data\n",
    "tr = sub['Facility Name'] == focal\n",
    "\n",
    "X = sub[xfeat]\n",
    "X = pd.get_dummies(X, drop_first=True, dtype=int)"
   ]
  },
  {
   "cell_type": "code",
   "execution_count": 28,
   "metadata": {},
   "outputs": [],
   "source": [
    "benchmark_test = Benchmark(data = X, treat = tr)\n",
    "benchmark_test.fit(lrate=0.1, nest=500)\n",
    "benchmark_test.calc_balance()"
   ]
  },
  {
   "cell_type": "code",
   "execution_count": 31,
   "metadata": {},
   "outputs": [
    {
     "name": "stdout",
     "output_type": "stream",
     "text": [
      "Total Charges:-7252.44\n",
      "Total Costs:-4253.26\n"
     ]
    }
   ],
   "source": [
    "for feat in efeat:\n",
    "    res = benchmark_test.evaluate(y=sub[feat])\n",
    "    print(f\"{feat}:{res}\")"
   ]
  },
  {
   "cell_type": "code",
   "execution_count": null,
   "metadata": {},
   "outputs": [],
   "source": [
    "for x in sub['']"
   ]
  },
  {
   "cell_type": "code",
   "execution_count": 36,
   "metadata": {},
   "outputs": [],
   "source": [
    "# let's test 5 hospitals\n",
    "hosp_list = [\n",
    "    \"Auburn Community Hospital\",\n",
    "    \"Crouse Hospital\",\n",
    "    \"Community Memorial Hospital Inc\",\n",
    "    \"Guthrie Cortland Medical Center\",\n",
    "]\n",
    "\n",
    "outcome_list = []\n",
    "\n",
    "for h in hosp_list:\n",
    "    tr = sub['Facility Name'] == h\n",
    "\n",
    "    bench = Benchmark(data = X, treat = tr)\n",
    "    bench.fit(lrate=0.1,nest=500)\n",
    "    \n",
    "    out = bench.evaluate(sub['Total Costs'])\n",
    "\n",
    "    outcome_list.append(out)"
   ]
  },
  {
   "cell_type": "code",
   "execution_count": 37,
   "metadata": {},
   "outputs": [
    {
     "data": {
      "text/html": [
       "<div>\n",
       "<style scoped>\n",
       "    .dataframe tbody tr th:only-of-type {\n",
       "        vertical-align: middle;\n",
       "    }\n",
       "\n",
       "    .dataframe tbody tr th {\n",
       "        vertical-align: top;\n",
       "    }\n",
       "\n",
       "    .dataframe thead th {\n",
       "        text-align: right;\n",
       "    }\n",
       "</style>\n",
       "<table border=\"1\" class=\"dataframe\">\n",
       "  <thead>\n",
       "    <tr style=\"text-align: right;\">\n",
       "      <th></th>\n",
       "      <th>Hospital</th>\n",
       "      <th>Total Costs</th>\n",
       "    </tr>\n",
       "  </thead>\n",
       "  <tbody>\n",
       "    <tr>\n",
       "      <th>0</th>\n",
       "      <td>Auburn Community Hospital</td>\n",
       "      <td>-4253.26</td>\n",
       "    </tr>\n",
       "    <tr>\n",
       "      <th>1</th>\n",
       "      <td>Crouse Hospital</td>\n",
       "      <td>-3518.27</td>\n",
       "    </tr>\n",
       "    <tr>\n",
       "      <th>2</th>\n",
       "      <td>Community Memorial Hospital Inc</td>\n",
       "      <td>-380.64</td>\n",
       "    </tr>\n",
       "    <tr>\n",
       "      <th>3</th>\n",
       "      <td>Guthrie Cortland Medical Center</td>\n",
       "      <td>-175.93</td>\n",
       "    </tr>\n",
       "  </tbody>\n",
       "</table>\n",
       "</div>"
      ],
      "text/plain": [
       "                          Hospital  Total Costs\n",
       "0        Auburn Community Hospital     -4253.26\n",
       "1                  Crouse Hospital     -3518.27\n",
       "2  Community Memorial Hospital Inc      -380.64\n",
       "3  Guthrie Cortland Medical Center      -175.93"
      ]
     },
     "execution_count": 37,
     "metadata": {},
     "output_type": "execute_result"
    }
   ],
   "source": [
    "pd.DataFrame({'Hospital':hosp_list,'Total Costs':outcome_list})"
   ]
  }
 ],
 "metadata": {
  "kernelspec": {
   "display_name": "benchmark",
   "language": "python",
   "name": "python3"
  },
  "language_info": {
   "codemirror_mode": {
    "name": "ipython",
    "version": 3
   },
   "file_extension": ".py",
   "mimetype": "text/x-python",
   "name": "python",
   "nbconvert_exporter": "python",
   "pygments_lexer": "ipython3",
   "version": "3.11.0"
  },
  "orig_nbformat": 4
 },
 "nbformat": 4,
 "nbformat_minor": 2
}
