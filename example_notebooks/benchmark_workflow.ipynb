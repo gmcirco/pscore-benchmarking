{
 "cells": [
  {
   "cell_type": "code",
   "execution_count": 2,
   "metadata": {},
   "outputs": [
    {
     "name": "stdout",
     "output_type": "stream",
     "text": [
      "C:\\Users\\gioc4\\Documents\\python-benchmark\n"
     ]
    }
   ],
   "source": [
    "%cd C:/Users/gioc4/Documents/python-benchmark"
   ]
  },
  {
   "cell_type": "code",
   "execution_count": 15,
   "metadata": {},
   "outputs": [
    {
     "name": "stderr",
     "output_type": "stream",
     "text": [
      "C:\\Users\\gioc4\\AppData\\Local\\Temp\\ipykernel_16100\\3931642226.py:6: DtypeWarning: Columns (10,29) have mixed types. Specify dtype option on import or set low_memory=False.\n",
      "  df = pd.read_csv(\"C:/Users/gioc4/Documents/blog/data/sparcs2.zip\")\n"
     ]
    }
   ],
   "source": [
    "import pandas as pd\n",
    "from provider_scorecard.benchmark import Benchmark\n",
    "\n",
    "# load data\n",
    "df = pd.read_csv(\"C:/Users/gioc4/Documents/blog/data/sparcs2.zip\")\n",
    " \n",
    "# transform\n",
    "# get only the top 30 drg codes\n",
    "df = df[df['Hospital County'] == 'Suffolk']\n",
    "\n",
    "# some recoding\n",
    "df['Length of Stay'] = [120 if x == '120 +' else x for x in df['Length of Stay']]\n",
    "df['Length of Stay'] = df['Length of Stay'].astype(int)\n",
    "df['APR DRG Code'] = df['APR DRG Code'].astype(str)\n",
    "\n",
    "# top 30 drg codes\n",
    "drg = df.groupby('APR DRG Code')['APR DRG Code'].count().sort_values(ascending=False).head(30)\n",
    "drg = drg.astype(str)\n",
    "\n",
    "# final dataframe\n",
    "df = df[df['APR DRG Code'].isin(drg.index)]"
   ]
  },
  {
   "cell_type": "code",
   "execution_count": 16,
   "metadata": {},
   "outputs": [
    {
     "data": {
      "text/plain": [
       "array(['Long Island Community Hospital', 'Peconic Bay Medical Center',\n",
       "       'South Shore University Hospital', 'Huntington Hospital',\n",
       "       'Stony Brook University Hospital',\n",
       "       'Stony Brook Southampton Hospital',\n",
       "       'Stony Brook Eastern Long Island Hospital',\n",
       "       'Good Samaritan Hospital Medical Center', 'St. Charles Hospital',\n",
       "       'St Catherine of Siena Hospital',\n",
       "       'John T Mather Memorial Hospital of Port Jefferson New York Inc'],\n",
       "      dtype=object)"
      ]
     },
     "execution_count": 16,
     "metadata": {},
     "output_type": "execute_result"
    }
   ],
   "source": [
    "df['Facility Name'].unique()"
   ]
  },
  {
   "cell_type": "code",
   "execution_count": 18,
   "metadata": {},
   "outputs": [
    {
     "data": {
      "text/plain": [
       "Facility Name\n",
       "Stony Brook University Hospital                                   17831\n",
       "Good Samaritan Hospital Medical Center                            13667\n",
       "South Shore University Hospital                                   12709\n",
       "Huntington Hospital                                               10601\n",
       "St. Charles Hospital                                               7790\n",
       "Peconic Bay Medical Center                                         5468\n",
       "St Catherine of Siena Hospital                                     5314\n",
       "Long Island Community Hospital                                     4574\n",
       "John T Mather Memorial Hospital of Port Jefferson New York Inc     4178\n",
       "Stony Brook Southampton Hospital                                   3057\n",
       "Stony Brook Eastern Long Island Hospital                            847\n",
       "Name: Facility Name, dtype: int64"
      ]
     },
     "execution_count": 18,
     "metadata": {},
     "output_type": "execute_result"
    }
   ],
   "source": [
    "df.groupby('Facility Name')['Facility Name'].count().sort_values(ascending=False)"
   ]
  },
  {
   "cell_type": "code",
   "execution_count": 27,
   "metadata": {},
   "outputs": [],
   "source": [
    "# input features\n",
    "xfeat = [\n",
    "    \"Age Group\",\n",
    "    \"Gender\",\n",
    "    \"Race\",\n",
    "    \"Length of Stay\",\n",
    "    \"Type of Admission\",\n",
    "    \"APR DRG Code\",\n",
    "    \"APR Severity of Illness Description\",\n",
    "    \"APR Risk of Mortality\",\n",
    "]\n",
    "\n",
    "# evaluation features\n",
    "efeat = [\"Total Charges\", \"Total Costs\", \"Payment Typology 1\"]\n",
    "\n",
    "# focal hospitals\n",
    "hosp = [\n",
    "    'Stony Brook University Hospital',\n",
    "    'Good Samaritan Hospital Medical Center',\n",
    "    'South Shore University Hospital',\n",
    "    'Huntington Hospital',\n",
    "    'St. Charles Hospital',\n",
    "    'Long Island Community Hospital'\n",
    "]"
   ]
  },
  {
   "cell_type": "code",
   "execution_count": 28,
   "metadata": {},
   "outputs": [],
   "source": [
    "res_list = []\n",
    "\n",
    "# loop through hospitals, store dataframes in list\n",
    "for h in hosp:\n",
    "    tr = df[\"Facility Name\"] == h\n",
    "\n",
    "    bch = Benchmark(\n",
    "        data=df, focal_indicator=tr, predictor_features=xfeat, evaluation_features=efeat\n",
    "    )\n",
    "    bch.fit(lrate=0.1, nest=250)\n",
    "    bch.evaluate()\n",
    "\n",
    "    res_list.append(\n",
    "        pd.DataFrame(\n",
    "            {\"Hospital\": h, \"Outcome\": bch.Xeval.columns, \"Value\": bch.outcomes}\n",
    "        )\n",
    "    )"
   ]
  },
  {
   "cell_type": "code",
   "execution_count": 29,
   "metadata": {},
   "outputs": [],
   "source": [
    "# concat into single pandas dataframe\n",
    "results = pd.concat(res_list, axis=0)"
   ]
  },
  {
   "cell_type": "code",
   "execution_count": 44,
   "metadata": {},
   "outputs": [
    {
     "data": {
      "text/html": [
       "<div>\n",
       "<style scoped>\n",
       "    .dataframe tbody tr th:only-of-type {\n",
       "        vertical-align: middle;\n",
       "    }\n",
       "\n",
       "    .dataframe tbody tr th {\n",
       "        vertical-align: top;\n",
       "    }\n",
       "\n",
       "    .dataframe thead th {\n",
       "        text-align: right;\n",
       "    }\n",
       "</style>\n",
       "<table border=\"1\" class=\"dataframe\">\n",
       "  <thead>\n",
       "    <tr style=\"text-align: right;\">\n",
       "      <th></th>\n",
       "      <th>Hospital</th>\n",
       "      <th>Outcome</th>\n",
       "      <th>Value</th>\n",
       "    </tr>\n",
       "  </thead>\n",
       "  <tbody>\n",
       "    <tr>\n",
       "      <th>0</th>\n",
       "      <td>Long Island Community Hospital</td>\n",
       "      <td>Total Charges</td>\n",
       "      <td>-9788.00</td>\n",
       "    </tr>\n",
       "    <tr>\n",
       "      <th>1</th>\n",
       "      <td>Long Island Community Hospital</td>\n",
       "      <td>Total Costs</td>\n",
       "      <td>-7248.00</td>\n",
       "    </tr>\n",
       "    <tr>\n",
       "      <th>2</th>\n",
       "      <td>Long Island Community Hospital</td>\n",
       "      <td>Payment Typology 1_Blue Cross/Blue Shield</td>\n",
       "      <td>-0.02</td>\n",
       "    </tr>\n",
       "    <tr>\n",
       "      <th>3</th>\n",
       "      <td>Long Island Community Hospital</td>\n",
       "      <td>Payment Typology 1_Department of Corrections</td>\n",
       "      <td>-0.00</td>\n",
       "    </tr>\n",
       "    <tr>\n",
       "      <th>4</th>\n",
       "      <td>Long Island Community Hospital</td>\n",
       "      <td>Payment Typology 1_Federal/State/Local/VA</td>\n",
       "      <td>-0.01</td>\n",
       "    </tr>\n",
       "    <tr>\n",
       "      <th>5</th>\n",
       "      <td>Long Island Community Hospital</td>\n",
       "      <td>Payment Typology 1_Managed Care, Unspecified</td>\n",
       "      <td>-0.03</td>\n",
       "    </tr>\n",
       "    <tr>\n",
       "      <th>6</th>\n",
       "      <td>Long Island Community Hospital</td>\n",
       "      <td>Payment Typology 1_Medicaid</td>\n",
       "      <td>-0.11</td>\n",
       "    </tr>\n",
       "    <tr>\n",
       "      <th>7</th>\n",
       "      <td>Long Island Community Hospital</td>\n",
       "      <td>Payment Typology 1_Medicare</td>\n",
       "      <td>0.04</td>\n",
       "    </tr>\n",
       "    <tr>\n",
       "      <th>8</th>\n",
       "      <td>Long Island Community Hospital</td>\n",
       "      <td>Payment Typology 1_Miscellaneous/Other</td>\n",
       "      <td>-0.01</td>\n",
       "    </tr>\n",
       "    <tr>\n",
       "      <th>9</th>\n",
       "      <td>Long Island Community Hospital</td>\n",
       "      <td>Payment Typology 1_Private Health Insurance</td>\n",
       "      <td>0.15</td>\n",
       "    </tr>\n",
       "    <tr>\n",
       "      <th>10</th>\n",
       "      <td>Long Island Community Hospital</td>\n",
       "      <td>Payment Typology 1_Self-Pay</td>\n",
       "      <td>-0.01</td>\n",
       "    </tr>\n",
       "  </tbody>\n",
       "</table>\n",
       "</div>"
      ],
      "text/plain": [
       "                          Hospital  \\\n",
       "0   Long Island Community Hospital   \n",
       "1   Long Island Community Hospital   \n",
       "2   Long Island Community Hospital   \n",
       "3   Long Island Community Hospital   \n",
       "4   Long Island Community Hospital   \n",
       "5   Long Island Community Hospital   \n",
       "6   Long Island Community Hospital   \n",
       "7   Long Island Community Hospital   \n",
       "8   Long Island Community Hospital   \n",
       "9   Long Island Community Hospital   \n",
       "10  Long Island Community Hospital   \n",
       "\n",
       "                                         Outcome    Value  \n",
       "0                                  Total Charges -9788.00  \n",
       "1                                    Total Costs -7248.00  \n",
       "2      Payment Typology 1_Blue Cross/Blue Shield    -0.02  \n",
       "3   Payment Typology 1_Department of Corrections    -0.00  \n",
       "4      Payment Typology 1_Federal/State/Local/VA    -0.01  \n",
       "5   Payment Typology 1_Managed Care, Unspecified    -0.03  \n",
       "6                    Payment Typology 1_Medicaid    -0.11  \n",
       "7                    Payment Typology 1_Medicare     0.04  \n",
       "8         Payment Typology 1_Miscellaneous/Other    -0.01  \n",
       "9    Payment Typology 1_Private Health Insurance     0.15  \n",
       "10                   Payment Typology 1_Self-Pay    -0.01  "
      ]
     },
     "execution_count": 44,
     "metadata": {},
     "output_type": "execute_result"
    }
   ],
   "source": [
    "res_list[5]"
   ]
  }
 ],
 "metadata": {
  "kernelspec": {
   "display_name": "benchmark",
   "language": "python",
   "name": "python3"
  },
  "language_info": {
   "codemirror_mode": {
    "name": "ipython",
    "version": 3
   },
   "file_extension": ".py",
   "mimetype": "text/x-python",
   "name": "python",
   "nbconvert_exporter": "python",
   "pygments_lexer": "ipython3",
   "version": "3.11.5"
  },
  "orig_nbformat": 4
 },
 "nbformat": 4,
 "nbformat_minor": 2
}
