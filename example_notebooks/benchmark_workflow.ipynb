{
 "cells": [
  {
   "cell_type": "code",
   "execution_count": 1,
   "metadata": {},
   "outputs": [
    {
     "name": "stdout",
     "output_type": "stream",
     "text": [
      "C:\\Users\\gioc4\\Documents\\python-benchmark\n"
     ]
    }
   ],
   "source": [
    "%cd C:/Users/gioc4/Documents/python-benchmark"
   ]
  },
  {
   "cell_type": "code",
   "execution_count": 2,
   "metadata": {},
   "outputs": [
    {
     "name": "stderr",
     "output_type": "stream",
     "text": [
      "C:\\Users\\gioc4\\AppData\\Local\\Temp\\ipykernel_10768\\612499255.py:5: DtypeWarning: Columns (10,29) have mixed types. Specify dtype option on import or set low_memory=False.\n",
      "  df = pd.read_csv(\"C:/Users/gioc4/Documents/blog/data/sparcs2.zip\")\n"
     ]
    }
   ],
   "source": [
    "import pandas as pd\n",
    "from provider_scorecard.benchmark import Benchmark\n",
    "\n",
    "# load data\n",
    "df = pd.read_csv(\"C:/Users/gioc4/Documents/blog/data/sparcs2.zip\")\n",
    " \n",
    "# transform\n",
    "# get only the top 30 drg codes\n",
    "df = df[df['Hospital County'] == 'Suffolk']\n",
    "\n",
    "# some recoding\n",
    "df['Length of Stay'] = [120 if x == '120 +' else x for x in df['Length of Stay']]\n",
    "df['Length of Stay'] = df['Length of Stay'].astype(int)\n",
    "df['APR DRG Code'] = df['APR DRG Code'].astype(str)\n",
    "\n",
    "# top 30 drg codes\n",
    "drg = df.groupby('APR DRG Code')['APR DRG Code'].count().sort_values(ascending=False).head(30)\n",
    "drg = drg.astype(str)\n",
    "\n",
    "# final dataframe\n",
    "df = df[df['APR DRG Code'].isin(drg.index)]"
   ]
  },
  {
   "cell_type": "code",
   "execution_count": 3,
   "metadata": {},
   "outputs": [
    {
     "data": {
      "text/plain": [
       "array(['Long Island Community Hospital', 'Peconic Bay Medical Center',\n",
       "       'South Shore University Hospital', 'Huntington Hospital',\n",
       "       'Stony Brook University Hospital',\n",
       "       'Stony Brook Southampton Hospital',\n",
       "       'Stony Brook Eastern Long Island Hospital',\n",
       "       'Good Samaritan Hospital Medical Center', 'St. Charles Hospital',\n",
       "       'St Catherine of Siena Hospital',\n",
       "       'John T Mather Memorial Hospital of Port Jefferson New York Inc'],\n",
       "      dtype=object)"
      ]
     },
     "execution_count": 3,
     "metadata": {},
     "output_type": "execute_result"
    }
   ],
   "source": [
    "df['Facility Name'].unique()"
   ]
  },
  {
   "cell_type": "code",
   "execution_count": 4,
   "metadata": {},
   "outputs": [
    {
     "data": {
      "text/plain": [
       "Facility Name\n",
       "Stony Brook University Hospital                                   17831\n",
       "Good Samaritan Hospital Medical Center                            13667\n",
       "South Shore University Hospital                                   12709\n",
       "Huntington Hospital                                               10601\n",
       "St. Charles Hospital                                               7790\n",
       "Peconic Bay Medical Center                                         5468\n",
       "St Catherine of Siena Hospital                                     5314\n",
       "Long Island Community Hospital                                     4574\n",
       "John T Mather Memorial Hospital of Port Jefferson New York Inc     4178\n",
       "Stony Brook Southampton Hospital                                   3057\n",
       "Stony Brook Eastern Long Island Hospital                            847\n",
       "Name: Facility Name, dtype: int64"
      ]
     },
     "execution_count": 4,
     "metadata": {},
     "output_type": "execute_result"
    }
   ],
   "source": [
    "df.groupby('Facility Name')['Facility Name'].count().sort_values(ascending=False)"
   ]
  },
  {
   "cell_type": "code",
   "execution_count": 5,
   "metadata": {},
   "outputs": [],
   "source": [
    "# input features\n",
    "xfeat = [\n",
    "    \"Age Group\",\n",
    "    \"Gender\",\n",
    "    \"Race\",\n",
    "    \"Length of Stay\",\n",
    "    \"Type of Admission\",\n",
    "    \"APR DRG Code\",\n",
    "    \"APR Severity of Illness Description\",\n",
    "    \"APR Risk of Mortality\",\n",
    "]\n",
    "\n",
    "# evaluation features\n",
    "efeat = [\"Total Charges\", \"Total Costs\", \"Payment Typology 1\"]\n",
    "\n",
    "# focal hospitals\n",
    "hosp = [\n",
    "    'Stony Brook University Hospital',\n",
    "    'Good Samaritan Hospital Medical Center',\n",
    "    'South Shore University Hospital',\n",
    "    'Huntington Hospital',\n",
    "    'St. Charles Hospital',\n",
    "    'Long Island Community Hospital'\n",
    "]"
   ]
  },
  {
   "cell_type": "code",
   "execution_count": 6,
   "metadata": {},
   "outputs": [],
   "source": [
    "res_list = []\n",
    "mod_list = []\n",
    "\n",
    "# loop through hospitals, store dataframes in list\n",
    "for h in hosp:\n",
    "    tr = df[\"Facility Name\"] == h\n",
    "\n",
    "    bch = Benchmark(\n",
    "        data=df, focal_indicator=tr, predictor_features=xfeat, evaluation_features=efeat\n",
    "    )\n",
    "    bch.fit()\n",
    "    bch.evaluate()\n",
    "\n",
    "    # store results\n",
    "    mod_list.append(bch)\n",
    "    res_list.append(\n",
    "        pd.DataFrame(\n",
    "            {\"Hospital\": h, \"Outcome\": bch.Xeval.columns, \"Value\": bch.outcomes}\n",
    "        )\n",
    "    )"
   ]
  },
  {
   "cell_type": "code",
   "execution_count": 7,
   "metadata": {},
   "outputs": [],
   "source": [
    "# concat into single pandas dataframe\n",
    "results = pd.concat(res_list, axis=0)"
   ]
  },
  {
   "cell_type": "code",
   "execution_count": 18,
   "metadata": {},
   "outputs": [
    {
     "name": "stdout",
     "output_type": "stream",
     "text": [
      "Length of Stay:(6.65, 6.55)\n",
      "Age Group_0 to 17:(0.0, 0.0)\n",
      "Age Group_18 to 29:(0.03, 0.03)\n",
      "Age Group_30 to 49:(0.13, 0.13)\n",
      "Age Group_50 to 69:(0.38, 0.38)\n",
      "Age Group_70 or Older:(0.45, 0.46)\n",
      "Gender_F:(0.49, 0.49)\n",
      "Gender_M:(0.51, 0.51)\n",
      "Race_Black/African American:(0.11, 0.1)\n",
      "Race_Multi-racial:(0.0, 0.0)\n",
      "Race_Other Race:(0.12, 0.12)\n",
      "Race_White:(0.78, 0.78)\n",
      "Type of Admission_Elective:(0.03, 0.03)\n",
      "Type of Admission_Emergency:(0.97, 0.97)\n",
      "Type of Admission_Newborn:(0.0, 0.0)\n",
      "Type of Admission_Not Available:(0.0, 0.0)\n",
      "Type of Admission_Trauma:(0.0, 0.0)\n",
      "Type of Admission_Urgent:(0.0, 0.0)\n",
      "APR DRG Code_137:(0.09, 0.09)\n",
      "APR DRG Code_139:(0.04, 0.04)\n",
      "APR DRG Code_140:(0.04, 0.04)\n",
      "APR DRG Code_174:(0.03, 0.03)\n",
      "APR DRG Code_175:(0.01, 0.01)\n",
      "APR DRG Code_192:(0.01, 0.01)\n",
      "APR DRG Code_194:(0.07, 0.07)\n",
      "APR DRG Code_201:(0.03, 0.03)\n",
      "APR DRG Code_244:(0.01, 0.02)\n",
      "APR DRG Code_249:(0.01, 0.01)\n",
      "APR DRG Code_254:(0.02, 0.02)\n",
      "APR DRG Code_263:(0.02, 0.02)\n",
      "APR DRG Code_308:(0.02, 0.02)\n",
      "APR DRG Code_324:(0.01, 0.01)\n",
      "APR DRG Code_326:(0.01, 0.01)\n",
      "APR DRG Code_347:(0.02, 0.02)\n",
      "APR DRG Code_383:(0.03, 0.03)\n",
      "APR DRG Code_403:(0.01, 0.01)\n",
      "APR DRG Code_420:(0.02, 0.02)\n",
      "APR DRG Code_45:(0.03, 0.03)\n",
      "APR DRG Code_463:(0.02, 0.02)\n",
      "APR DRG Code_469:(0.02, 0.02)\n",
      "APR DRG Code_53:(0.02, 0.02)\n",
      "APR DRG Code_540:(0.0, 0.0)\n",
      "APR DRG Code_560:(0.0, 0.0)\n",
      "APR DRG Code_640:(0.0, 0.0)\n",
      "APR DRG Code_720:(0.35, 0.35)\n",
      "APR DRG Code_770:(0.01, 0.01)\n",
      "APR DRG Code_772:(0.01, 0.01)\n",
      "APR DRG Code_775:(0.03, 0.03)\n",
      "APR Severity of Illness Description_Extreme:(0.26, 0.26)\n",
      "APR Severity of Illness Description_Major:(0.34, 0.34)\n",
      "APR Severity of Illness Description_Minor:(0.13, 0.14)\n",
      "APR Severity of Illness Description_Moderate:(0.27, 0.27)\n",
      "APR Risk of Mortality_Extreme:(0.29, 0.29)\n",
      "APR Risk of Mortality_Major:(0.29, 0.29)\n",
      "APR Risk of Mortality_Minor:(0.22, 0.22)\n",
      "APR Risk of Mortality_Moderate:(0.2, 0.21)\n"
     ]
    }
   ],
   "source": [
    "mod_list[5].calc_balance()"
   ]
  },
  {
   "cell_type": "code",
   "execution_count": 13,
   "metadata": {},
   "outputs": [
    {
     "data": {
      "text/html": [
       "<div>\n",
       "<style scoped>\n",
       "    .dataframe tbody tr th:only-of-type {\n",
       "        vertical-align: middle;\n",
       "    }\n",
       "\n",
       "    .dataframe tbody tr th {\n",
       "        vertical-align: top;\n",
       "    }\n",
       "\n",
       "    .dataframe thead th {\n",
       "        text-align: right;\n",
       "    }\n",
       "</style>\n",
       "<table border=\"1\" class=\"dataframe\">\n",
       "  <thead>\n",
       "    <tr style=\"text-align: right;\">\n",
       "      <th></th>\n",
       "      <th>Hospital</th>\n",
       "      <th>Outcome</th>\n",
       "      <th>Value</th>\n",
       "    </tr>\n",
       "  </thead>\n",
       "  <tbody>\n",
       "    <tr>\n",
       "      <th>0</th>\n",
       "      <td>Stony Brook University Hospital</td>\n",
       "      <td>Total Charges</td>\n",
       "      <td>6048.00</td>\n",
       "    </tr>\n",
       "    <tr>\n",
       "      <th>1</th>\n",
       "      <td>Stony Brook University Hospital</td>\n",
       "      <td>Total Costs</td>\n",
       "      <td>5338.00</td>\n",
       "    </tr>\n",
       "    <tr>\n",
       "      <th>2</th>\n",
       "      <td>Stony Brook University Hospital</td>\n",
       "      <td>Payment Typology 1_Blue Cross/Blue Shield</td>\n",
       "      <td>0.02</td>\n",
       "    </tr>\n",
       "    <tr>\n",
       "      <th>3</th>\n",
       "      <td>Stony Brook University Hospital</td>\n",
       "      <td>Payment Typology 1_Department of Corrections</td>\n",
       "      <td>-0.00</td>\n",
       "    </tr>\n",
       "    <tr>\n",
       "      <th>4</th>\n",
       "      <td>Stony Brook University Hospital</td>\n",
       "      <td>Payment Typology 1_Federal/State/Local/VA</td>\n",
       "      <td>-0.00</td>\n",
       "    </tr>\n",
       "    <tr>\n",
       "      <th>5</th>\n",
       "      <td>Stony Brook University Hospital</td>\n",
       "      <td>Payment Typology 1_Managed Care, Unspecified</td>\n",
       "      <td>-0.08</td>\n",
       "    </tr>\n",
       "    <tr>\n",
       "      <th>6</th>\n",
       "      <td>Stony Brook University Hospital</td>\n",
       "      <td>Payment Typology 1_Medicaid</td>\n",
       "      <td>0.02</td>\n",
       "    </tr>\n",
       "    <tr>\n",
       "      <th>7</th>\n",
       "      <td>Stony Brook University Hospital</td>\n",
       "      <td>Payment Typology 1_Medicare</td>\n",
       "      <td>-0.03</td>\n",
       "    </tr>\n",
       "    <tr>\n",
       "      <th>8</th>\n",
       "      <td>Stony Brook University Hospital</td>\n",
       "      <td>Payment Typology 1_Miscellaneous/Other</td>\n",
       "      <td>0.00</td>\n",
       "    </tr>\n",
       "    <tr>\n",
       "      <th>9</th>\n",
       "      <td>Stony Brook University Hospital</td>\n",
       "      <td>Payment Typology 1_Private Health Insurance</td>\n",
       "      <td>0.01</td>\n",
       "    </tr>\n",
       "    <tr>\n",
       "      <th>10</th>\n",
       "      <td>Stony Brook University Hospital</td>\n",
       "      <td>Payment Typology 1_Self-Pay</td>\n",
       "      <td>0.05</td>\n",
       "    </tr>\n",
       "  </tbody>\n",
       "</table>\n",
       "</div>"
      ],
      "text/plain": [
       "                           Hospital  \\\n",
       "0   Stony Brook University Hospital   \n",
       "1   Stony Brook University Hospital   \n",
       "2   Stony Brook University Hospital   \n",
       "3   Stony Brook University Hospital   \n",
       "4   Stony Brook University Hospital   \n",
       "5   Stony Brook University Hospital   \n",
       "6   Stony Brook University Hospital   \n",
       "7   Stony Brook University Hospital   \n",
       "8   Stony Brook University Hospital   \n",
       "9   Stony Brook University Hospital   \n",
       "10  Stony Brook University Hospital   \n",
       "\n",
       "                                         Outcome    Value  \n",
       "0                                  Total Charges  6048.00  \n",
       "1                                    Total Costs  5338.00  \n",
       "2      Payment Typology 1_Blue Cross/Blue Shield     0.02  \n",
       "3   Payment Typology 1_Department of Corrections    -0.00  \n",
       "4      Payment Typology 1_Federal/State/Local/VA    -0.00  \n",
       "5   Payment Typology 1_Managed Care, Unspecified    -0.08  \n",
       "6                    Payment Typology 1_Medicaid     0.02  \n",
       "7                    Payment Typology 1_Medicare    -0.03  \n",
       "8         Payment Typology 1_Miscellaneous/Other     0.00  \n",
       "9    Payment Typology 1_Private Health Insurance     0.01  \n",
       "10                   Payment Typology 1_Self-Pay     0.05  "
      ]
     },
     "execution_count": 13,
     "metadata": {},
     "output_type": "execute_result"
    }
   ],
   "source": [
    "res_list[0]"
   ]
  }
 ],
 "metadata": {
  "kernelspec": {
   "display_name": "benchmark",
   "language": "python",
   "name": "python3"
  },
  "language_info": {
   "codemirror_mode": {
    "name": "ipython",
    "version": 3
   },
   "file_extension": ".py",
   "mimetype": "text/x-python",
   "name": "python",
   "nbconvert_exporter": "python",
   "pygments_lexer": "ipython3",
   "version": "3.11.5"
  },
  "orig_nbformat": 4
 },
 "nbformat": 4,
 "nbformat_minor": 2
}
